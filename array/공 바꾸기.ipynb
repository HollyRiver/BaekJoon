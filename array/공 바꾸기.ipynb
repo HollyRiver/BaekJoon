{
 "cells": [
  {
   "cell_type": "code",
   "execution_count": 3,
   "id": "e3bb47cc-3c6e-48f8-b121-73f17521bd0d",
   "metadata": {},
   "outputs": [
    {
     "name": "stdin",
     "output_type": "stream",
     "text": [
      " 5 4\n",
      " 1 2\n",
      " 3 4\n",
      " 1 4\n",
      " 2 2\n"
     ]
    },
    {
     "name": "stdout",
     "output_type": "stream",
     "text": [
      "3 1 4 2 5\n"
     ]
    }
   ],
   "source": [
    "N, M = map(int, input().split())\n",
    "\n",
    "lst = list(range(1, N+1))\n",
    "\n",
    "for i in range(M) :\n",
    "    fir, sec = map(int, input().split())\n",
    "    a = lst[fir-1]\n",
    "    b = lst[sec-1]\n",
    "\n",
    "    lst[fir-1] = b\n",
    "    lst[sec-1] = a\n",
    "\n",
    "output = \"\"\n",
    "\n",
    "for b in lst :\n",
    "    output = output + \" \" + str(b)\n",
    "\n",
    "print(output[1:])"
   ]
  }
 ],
 "metadata": {
  "kernelspec": {
   "display_name": "Python 3 (ipykernel)",
   "language": "python",
   "name": "python3"
  },
  "language_info": {
   "codemirror_mode": {
    "name": "ipython",
    "version": 3
   },
   "file_extension": ".py",
   "mimetype": "text/x-python",
   "name": "python",
   "nbconvert_exporter": "python",
   "pygments_lexer": "ipython3",
   "version": "3.10.13"
  }
 },
 "nbformat": 4,
 "nbformat_minor": 5
}
