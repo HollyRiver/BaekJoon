{
 "cells": [
  {
   "cell_type": "code",
   "execution_count": 1,
   "metadata": {},
   "outputs": [],
   "source": [
    "import random"
   ]
  },
  {
   "cell_type": "code",
   "execution_count": 86,
   "metadata": {},
   "outputs": [],
   "source": [
    "n = 10\n",
    "p = 0.5\n",
    "Q = 3\n",
    "\n",
    "lst = [[0, 10], [2, 5], [5, 5]]\n",
    "\n",
    "## nCx p^x(1-p)^(n-x)"
   ]
  },
  {
   "cell_type": "code",
   "execution_count": 5,
   "metadata": {},
   "outputs": [],
   "source": [
    "import math"
   ]
  },
  {
   "cell_type": "code",
   "execution_count": 88,
   "metadata": {},
   "outputs": [],
   "source": [
    "P_x = [int(math.factorial(n)/(math.factorial(i)*math.factorial(n-i)))*p**i*(1-p)**(n-i) for i in range(n+1)]"
   ]
  },
  {
   "cell_type": "code",
   "execution_count": 89,
   "metadata": {},
   "outputs": [
    {
     "data": {
      "text/plain": [
       "[0.0009765625,\n",
       " 0.009765625,\n",
       " 0.0439453125,\n",
       " 0.1171875,\n",
       " 0.205078125,\n",
       " 0.24609375,\n",
       " 0.205078125,\n",
       " 0.1171875,\n",
       " 0.0439453125,\n",
       " 0.009765625,\n",
       " 0.0009765625]"
      ]
     },
     "execution_count": 89,
     "metadata": {},
     "output_type": "execute_result"
    }
   ],
   "source": [
    "P_x"
   ]
  },
  {
   "cell_type": "code",
   "execution_count": 22,
   "metadata": {},
   "outputs": [],
   "source": [
    "import matplotlib.pyplot as plt"
   ]
  },
  {
   "cell_type": "code",
   "execution_count": 32,
   "metadata": {},
   "outputs": [
    {
     "data": {
      "text/plain": [
       "<BarContainer object of 11 artists>"
      ]
     },
     "execution_count": 32,
     "metadata": {},
     "output_type": "execute_result"
    },
    {
     "data": {
      "image/png": "[encoded data removed]",
      "text/plain": [
       "<Figure size 640x480 with 1 Axes>"
      ]
     },
     "metadata": {},
     "output_type": "display_data"
    }
   ],
   "source": [
    "plt.bar(list(range(11)), P_x)"
   ]
  },
  {
   "cell_type": "code",
   "execution_count": 43,
   "metadata": {},
   "outputs": [
    {
     "data": {
      "text/plain": [
       "[True, True, True, True, True, True, True, True, True, True]"
      ]
     },
     "execution_count": 43,
     "metadata": {},
     "output_type": "execute_result"
    }
   ],
   "source": [
    "[i >= P_x[lst[0][1]-1] for i in P_x[lst[0][0]:lst[0][1]]]"
   ]
  },
  {
   "cell_type": "code",
   "execution_count": null,
   "metadata": {},
   "outputs": [],
   "source": []
  },
  {
   "cell_type": "code",
   "execution_count": 91,
   "metadata": {},
   "outputs": [
    {
     "data": {
      "text/plain": [
       "[0.615234375, 0.41015625, 0.24609375]"
      ]
     },
     "execution_count": 91,
     "metadata": {},
     "output_type": "execute_result"
    }
   ],
   "source": [
    "[max([sum([P_x[lst[k][0]:lst[k][1]+1][i] >= P_x[lst[k][1]-j] for i in range(lst[k][1]-lst[k][0]+1)])*P_x[lst[k][1]-j] for j in range(lst[k][1]-lst[k][0]+1)]) for k in range(Q)]"
   ]
  },
  {
   "cell_type": "code",
   "execution_count": 79,
   "metadata": {},
   "outputs": [
    {
     "data": {
      "text/plain": [
       "[0.10737418240000006,\n",
       " 0.2684354560000001,\n",
       " 0.3019898880000002,\n",
       " 0.2013265920000001,\n",
       " 0.08808038400000005,\n",
       " 0.02642411520000001,\n",
       " 0.005505024000000003,\n",
       " 0.0007864320000000004,\n",
       " 7.372800000000005e-05,\n",
       " 4.096000000000002e-06,\n",
       " 1.0240000000000006e-07]"
      ]
     },
     "execution_count": 79,
     "metadata": {},
     "output_type": "execute_result"
    }
   ],
   "source": [
    "P_x"
   ]
  },
  {
   "cell_type": "code",
   "execution_count": 49,
   "metadata": {},
   "outputs": [
    {
     "data": {
      "text/plain": [
       "10"
      ]
     },
     "execution_count": 49,
     "metadata": {},
     "output_type": "execute_result"
    }
   ],
   "source": [
    "lst[0][1]-lst[0][0]"
   ]
  },
  {
   "cell_type": "code",
   "execution_count": null,
   "metadata": {},
   "outputs": [],
   "source": [
    "[P_x[lst[0][0]:lst[0][1]][i] >= P_x[lst[0][1]-j] for i in range(n)]"
   ]
  },
  {
   "cell_type": "code",
   "execution_count": 67,
   "metadata": {},
   "outputs": [
    {
     "data": {
      "text/plain": [
       "True"
      ]
     },
     "execution_count": 67,
     "metadata": {},
     "output_type": "execute_result"
    }
   ],
   "source": [
    "P_x[lst[0][0]:lst[0][1]][9] >= P_x[lst[0][1]-0]"
   ]
  },
  {
   "cell_type": "code",
   "execution_count": 69,
   "metadata": {},
   "outputs": [
    {
     "data": {
      "text/plain": [
       "[0.10737418240000006,\n",
       " 0.2684354560000001,\n",
       " 0.3019898880000002,\n",
       " 0.2013265920000001,\n",
       " 0.08808038400000005,\n",
       " 0.02642411520000001,\n",
       " 0.005505024000000003,\n",
       " 0.0007864320000000004,\n",
       " 7.372800000000005e-05,\n",
       " 4.096000000000002e-06,\n",
       " 1.0240000000000006e-07]"
      ]
     },
     "execution_count": 69,
     "metadata": {},
     "output_type": "execute_result"
    }
   ],
   "source": [
    "P_x[lst[0][0]:lst[0][1]+1]"
   ]
  },
  {
   "cell_type": "code",
   "execution_count": null,
   "metadata": {},
   "outputs": [],
   "source": []
  }
 ],
 "metadata": {
  "kernelspec": {
   "display_name": "ag",
   "language": "python",
   "name": "python3"
  },
  "language_info": {
   "codemirror_mode": {
    "name": "ipython",
    "version": 3
   },
   "file_extension": ".py",
   "mimetype": "text/x-python",
   "name": "python",
   "nbconvert_exporter": "python",
   "pygments_lexer": "ipython3",
   "version": "3.10.13"
  }
 },
 "nbformat": 4,
 "nbformat_minor": 2
}
